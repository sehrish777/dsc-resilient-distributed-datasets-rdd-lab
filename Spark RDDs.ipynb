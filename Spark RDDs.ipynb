{
 "cells": [
  {
   "cell_type": "code",
   "execution_count": null,
   "metadata": {},
   "outputs": [],
   "source": [
    "# create entry points to spark\n",
    "try:\n",
    "    sc.stop()\n",
    "except:\n",
    "    pass\n",
    "from pyspark import SparkContext, SparkConf\n",
    "from pyspark.sql import SparkSession\n",
    "sc=SparkContext()\n",
    "spark = SparkSession(sparkContext=sc)\n",
    "print(\"hello spark session run successfully\")\n",
    "titanic = spark.read.json(path='sample data missing values.json')\n",
    "titanic.show(5)\n",
    "#titanic.printSchema()\n",
    "print(\"length of columns\")\n",
    "print(len(titanic.columns))\n",
    "titanic.count()\n",
    "print(\"summarize columns\")\n",
    "def describe_columns(df):\n",
    "    for i in df.columns:\n",
    "        print('Column: ' + i)\n",
    "        titanic.select(i).describe().show()\n",
    "describe_columns(titanic)\n",
    "# code of missing values started here \n",
    "print(\"code of missing values started here \")\n",
    "def find_missing_values_columns(df):\n",
    "    nrow = df.count()\n",
    "    for v in df.columns:\n",
    "        summary_df = df.select(v).describe()\n",
    "        v_count = int(summary_df.collect()[0][v])\n",
    "        if v_count < nrow:\n",
    "            missing_percentage = (1 - v_count/nrow) * 100\n",
    "            print(\"Total observations: \" + str(nrow) + \"\\n\"\n",
    "                 \"Total observations of \" + v + \": \" + str(v_count) + \"\\n\"\n",
    "                 \"Percentage of missing values: \" + str(missing_percentage) + \"%\" + \"\\n\"\n",
    "                 \"----------------------------\")"
   ]
  }
 ],
 "metadata": {
  "kernelspec": {
   "display_name": "Python 3",
   "language": "python",
   "name": "python3"
  },
  "language_info": {
   "codemirror_mode": {
    "name": "ipython",
    "version": 3
   },
   "file_extension": ".py",
   "mimetype": "text/x-python",
   "name": "python",
   "nbconvert_exporter": "python",
   "pygments_lexer": "ipython3",
   "version": "3.7.4"
  }
 },
 "nbformat": 4,
 "nbformat_minor": 2
}
